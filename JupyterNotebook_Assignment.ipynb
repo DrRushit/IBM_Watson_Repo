{
  "metadata": {
    "language_info": {
      "codemirror_mode": {
        "name": "python",
        "version": 3
      },
      "file_extension": ".py",
      "mimetype": "text/x-python",
      "name": "python",
      "nbconvert_exporter": "python",
      "pygments_lexer": "ipython3",
      "version": "3.8"
    },
    "kernelspec": {
      "name": "python",
      "display_name": "Pyolite",
      "language": "python"
    }
  },
  "nbformat_minor": 4,
  "nbformat": 4,
  "cells": [
    {
      "cell_type": "markdown",
      "source": "# My Jupyter Notebook on IBM Watson Studio",
      "metadata": {}
    },
    {
      "cell_type": "markdown",
      "source": "**Rushit Parmar**\n<br>Data scientist ",
      "metadata": {}
    },
    {
      "cell_type": "markdown",
      "source": "*I am interested in data science because its help answer many questions unanswered before and also skills that data scientist posses is a must have and no longer good have to survive in tech industry*",
      "metadata": {}
    },
    {
      "cell_type": "markdown",
      "source": "### Below code just adds and print results",
      "metadata": {}
    },
    {
      "cell_type": "code",
      "source": "Value1, Value2 = 10, 20\nprint (\"Total is:\",Value1+Value2)",
      "metadata": {
        "trusted": true
      },
      "execution_count": 3,
      "outputs": [
        {
          "name": "stdout",
          "text": "Total is: 30\n",
          "output_type": "stream"
        }
      ]
    },
    {
      "cell_type": "markdown",
      "source": "Bulleted list\n - List item 1\n - List item 2\n - List item 3\n - List item 4\n - List item 5\n \nNumbered list\n 1. List item 1\n 2. List item 2\n 3. List item 3\n 4. List item 4\n 5. List item 5\n \n### Table : \n \n| Serial Number | Numeric Column | Text Column |\n|---:|:------|:------|\n|  1  | 1       | Hello   |\n|  2  | 2       | World   |",
      "metadata": {}
    },
    {
      "cell_type": "markdown",
      "source": "",
      "metadata": {}
    },
    {
      "cell_type": "code",
      "source": "",
      "metadata": {},
      "execution_count": null,
      "outputs": []
    }
  ]
}